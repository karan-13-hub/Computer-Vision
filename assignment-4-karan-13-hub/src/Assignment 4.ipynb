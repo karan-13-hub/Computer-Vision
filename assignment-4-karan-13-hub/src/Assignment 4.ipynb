{
 "cells": [
  {
   "cell_type": "markdown",
   "metadata": {},
   "source": [
    "## Viola-Jones"
   ]
  },
  {
   "cell_type": "code",
   "execution_count": 1,
   "metadata": {},
   "outputs": [],
   "source": [
    "import numpy as np\n",
    "import cv2 as cv\n",
    "import random\n",
    "import math\n",
    "from os import listdir\n",
    "from os.path import isfile, join\n",
    "from sklearn.feature_selection import SelectPercentile, f_classif\n",
    "import matplotlib.pyplot as plt"
   ]
  },
  {
   "cell_type": "markdown",
   "metadata": {},
   "source": [
    "##  Integral Image"
   ]
  },
  {
   "cell_type": "code",
   "execution_count": 2,
   "metadata": {},
   "outputs": [],
   "source": [
    "def integral_image(image):\n",
    "    s = np.zeros(image.shape)\n",
    "    ii = np.zeros(image.shape)\n",
    "    height, width = image.shape\n",
    "    for y in range(height):\n",
    "        for x in range(width):\n",
    "            if(y==0):\n",
    "                s[y][x] = image[y][x]\n",
    "            else:\n",
    "                s[y][x] = s[y-1][x] + image[y][x]\n",
    "            \n",
    "            if(x==0):\n",
    "                ii[y][x] = s[y][x]\n",
    "            else:\n",
    "                ii[y][x] = ii[y][x-1] + s[y][x]\n",
    "    return ii       "
   ]
  },
  {
   "cell_type": "markdown",
   "metadata": {},
   "source": [
    "## Sum of features in a Rectangular region"
   ]
  },
  {
   "cell_type": "code",
   "execution_count": 3,
   "metadata": {},
   "outputs": [],
   "source": [
    "def rectangular_sum(ii,pos):\n",
    "    x = pos[0]\n",
    "    y = pos[1]\n",
    "    w = pos[2]\n",
    "    h = pos[3]\n",
    "    bottom_right = ii[y+h][x+w]\n",
    "    top_left = ii[y][x]\n",
    "    bottom_left = ii[y+h][x]\n",
    "    top_right = ii[y][x+w]\n",
    "    features_rectangle_sum = (bottom_right+top_left) - (bottom_left+top_right)\n",
    "    return features_rectangle_sum"
   ]
  },
  {
   "cell_type": "markdown",
   "metadata": {},
   "source": [
    "## Haar features"
   ]
  },
  {
   "cell_type": "code",
   "execution_count": 4,
   "metadata": {},
   "outputs": [],
   "source": [
    "def haar_features(image_shape):\n",
    "    height, width = image_shape\n",
    "    features = []\n",
    "    for h in range(1,height):\n",
    "        for w in range(1,width):\n",
    "            y = 0\n",
    "            while(y+h<height):\n",
    "                x = 0\n",
    "                while(x+w<width):\n",
    "                    current = x,y,w,h\n",
    "                    \n",
    "                    #Edge features\n",
    "                    if(x+2*w<width):\n",
    "                        right = x+w,y,w,h\n",
    "                        features.append(([right],[current]))\n",
    "                    if(y+2*h<height):\n",
    "                        bottom = x,y+h,w,h\n",
    "                        features.append(([current],[bottom]))\n",
    "                        \n",
    "                    #Line features\n",
    "                    if(x+3*w<width):\n",
    "                        rightmost = x+2*w,y,w,h\n",
    "                        features.append(([right],[rightmost,current]))\n",
    "                    if(y+3*h<height):\n",
    "                        bottommost = x,y+2*h,w,h\n",
    "                        features.append(([bottom],[bottommost,current]))\n",
    "                        \n",
    "                    #Rectangular features\n",
    "                    if(x+2*w<width and y+2*h<height):\n",
    "                        bottom_right = x+w,y+h,w,h\n",
    "                        features.append(([right,bottom],[current,bottom_right]))\n",
    "                    \n",
    "                    x = x+1\n",
    "                y = y+1\n",
    "    return features"
   ]
  },
  {
   "cell_type": "markdown",
   "metadata": {},
   "source": [
    "## Training"
   ]
  },
  {
   "cell_type": "code",
   "execution_count": 5,
   "metadata": {},
   "outputs": [],
   "source": [
    "def train(integral_images, labels, pos_examples, neg_examples):\n",
    "    image_shape = integral_images[0].shape\n",
    "    weights = np.zeros(len(labels))\n",
    "    features = haar_features(image_shape)\n",
    "    X = np.zeros((len(features),len(labels)))\n",
    "    for x in range(len(labels)):  \n",
    "        if labels[x] == 1:\n",
    "            weights[x] = 1.0/(2*pos_examples)\n",
    "        else:\n",
    "            weights[x] = 1.0/(2*neg_examples)\n",
    "        \n",
    "    for i in range(len(features)):\n",
    "        for j in range(len(integral_images)):\n",
    "            ii = integral_images[j]\n",
    "            positive_features_sum = sum([rectangular_sum(ii,pos) for pos in features[i][0]])\n",
    "            negative_features_sum = sum([rectangular_sum(ii,neg) for neg in features[i][1]])\n",
    "            feature_value = positive_features_sum - negative_features_sum\n",
    "            X[i][j] = feature_value\n",
    "                \n",
    "    return weights, X"
   ]
  },
  {
   "cell_type": "markdown",
   "metadata": {},
   "source": [
    "## Selecting Best classifier"
   ]
  },
  {
   "cell_type": "code",
   "execution_count": 6,
   "metadata": {},
   "outputs": [],
   "source": [
    "def select_best_classifier(weights,X,y):\n",
    "    num_features, num_img = X.shape\n",
    "    total_pos_weights = 0\n",
    "    total_neg_weights = 0\n",
    "    final_error_arr = np.zeros(num_img)\n",
    "    \n",
    "    for i in range(num_img):\n",
    "        if y[i]==1:\n",
    "            total_pos_weights+=weights[i]\n",
    "        else:\n",
    "            total_neg_weights+=weights[i]\n",
    "    \n",
    "    final_feature_error = np.inf\n",
    "    final_feature, final_threshold, final_polarity = None, None, None\n",
    "    \n",
    "    for i in range(num_features):\n",
    "        total = sorted(zip(weights, X[i,:], y), key=lambda x: x[1])\n",
    "    \n",
    "        pos_weights, neg_weights = 0, 0\n",
    "        pos_seen, neg_seen = 0, 0\n",
    "        min_error = np.inf\n",
    "        polarity, threshold = None, None\n",
    "    \n",
    "        for w, f, label in total :\n",
    "            \n",
    "            term_1 = neg_weights + total_pos_weights - pos_weights\n",
    "            term_2 = pos_weights + total_neg_weights - neg_weights\n",
    "            error = min(term_1,term_2)\n",
    "        \n",
    "            if error<min_error :\n",
    "                min_error = error\n",
    "                threshold = f\n",
    "                if pos_seen>neg_seen:\n",
    "                    polarity = 1\n",
    "                else :\n",
    "                    polarity = -1\n",
    "            \n",
    "                    \n",
    "            if label == 1:\n",
    "                pos_seen+=1\n",
    "                pos_weights+=w\n",
    "            else:\n",
    "                neg_seen+=1\n",
    "                neg_weights+=w\n",
    "                \n",
    "        \n",
    "        feature_error = 0\n",
    "        error_arr = np.zeros(num_img)\n",
    "        for x in range(num_img):\n",
    "            feature_val = X[i,x]\n",
    "            if y[x] == 0 and polarity*feature_val < polarity*threshold :\n",
    "                feature_error += weights[x]\n",
    "                error_arr[x] = 1\n",
    "            if y[x] == 1 and polarity*feature_val >= polarity*threshold :\n",
    "                feature_error += weights[x]\n",
    "                error_arr[x] = 1\n",
    "                \n",
    "        if feature_error<final_feature_error:\n",
    "            final_feature_error = feature_error\n",
    "            final_feature = i\n",
    "            final_polarity = polarity\n",
    "            final_threshold = threshold\n",
    "            final_error_arr = error_arr\n",
    "    \n",
    "    return final_feature_error, final_feature, final_polarity, final_threshold, final_error_arr"
   ]
  },
  {
   "cell_type": "markdown",
   "metadata": {},
   "source": [
    "## Test"
   ]
  },
  {
   "cell_type": "code",
   "execution_count": 7,
   "metadata": {},
   "outputs": [],
   "source": [
    "def test(beta, threshold, polarity, best_classifier, integral_images, y):\n",
    "    tp = 0\n",
    "    tn = 0\n",
    "    fp = 0\n",
    "    fn = 0\n",
    "    num_imgs = len(integral_images)\n",
    "    features = haar_features(integral_images[0].shape)\n",
    "    \n",
    "    for i in range(num_imgs):\n",
    "        val = 0\n",
    "        sum_alpha = 0\n",
    "        for j in range(len(best_classifier)):\n",
    "            feature_idx = best_classifier[j]\n",
    "            ii = integral_images[i]\n",
    "            positive_features_sum = sum([rectangular_sum(ii,pos) for pos in features[feature_idx][0]])\n",
    "            negative_features_sum = sum([rectangular_sum(ii,neg) for neg in features[feature_idx][1]])\n",
    "            feature_value = positive_features_sum - negative_features_sum\n",
    "            \n",
    "            p = polarity[j]\n",
    "            th = threshold[j]\n",
    "            sum_alpha = sum_alpha + math.log(1/beta[j])\n",
    "            \n",
    "            if p*feature_value < p*th :\n",
    "                val += math.log(1/beta[j])\n",
    "\n",
    "        if val >= 0.5*sum_alpha and y[i] == 1 :\n",
    "            tp = tp+1\n",
    "        if val < 0.5*sum_alpha and y[i] == 0 :\n",
    "            tn = tn+1\n",
    "        if val >= 0.5*sum_alpha and y[i] == 0 :\n",
    "            fp = fp+1\n",
    "        if val < 0.5*sum_alpha and y[i] == 1 :\n",
    "            fn = fn+1\n",
    "\n",
    "    return tp, tn, fp, fn"
   ]
  },
  {
   "cell_type": "markdown",
   "metadata": {},
   "source": [
    "## Test on Single Image"
   ]
  },
  {
   "cell_type": "code",
   "execution_count": 8,
   "metadata": {},
   "outputs": [],
   "source": [
    "def test_single_image(beta, threshold, polarity, best_classifier, integral_images, y):\n",
    "    tp = 0\n",
    "    tn = 0\n",
    "    fp = 0\n",
    "    fn = 0\n",
    "    features = haar_features(integral_images.shape)\n",
    "\n",
    "    val = 0\n",
    "    sum_alpha = 0\n",
    "    for j in range(len(best_classifier)):\n",
    "        feature_idx = best_classifier[j]\n",
    "        ii = integral_images\n",
    "        positive_features_sum = sum([rectangular_sum(ii,pos) for pos in features[feature_idx][0]])\n",
    "        negative_features_sum = sum([rectangular_sum(ii,neg) for neg in features[feature_idx][1]])\n",
    "        feature_value = positive_features_sum - negative_features_sum\n",
    "\n",
    "        p = polarity[j]\n",
    "        th = threshold[j]\n",
    "        sum_alpha = sum_alpha + math.log(1/beta[j])\n",
    "\n",
    "        if p*feature_value < p*th :\n",
    "            val += math.log(1/beta[j])\n",
    "\n",
    "    if val >= 0.5*sum_alpha and y == 1 :\n",
    "        tp = tp+1\n",
    "    if val < 0.5*sum_alpha and y == 0 :\n",
    "        tn = tn+1\n",
    "    if val >= 0.5*sum_alpha and y == 0 :\n",
    "        fp = fp+1\n",
    "    if val < 0.5*sum_alpha and y == 1 :\n",
    "        fn = fn+1\n",
    "\n",
    "    return tp, tn, fp, fn"
   ]
  },
  {
   "cell_type": "markdown",
   "metadata": {},
   "source": [
    "## Do not run unless you want to retrain the model"
   ]
  },
  {
   "cell_type": "code",
   "execution_count": 9,
   "metadata": {},
   "outputs": [
    {
     "data": {
      "text/plain": [
       "'img_size = 18\\n\\ntrain_faces_img_path = \"../dataset/train/face/\"\\ntrain_non_faces_img_path = \"../dataset/train/non-face/\"\\n\\ntrain_faces_img = [f for f in listdir(train_faces_img_path) if isfile(join(train_faces_img_path, f))][:1000]\\ntrain_non_faces_img = [f for f in listdir(train_non_faces_img_path) if isfile(join(train_non_faces_img_path, f))][:1000]\\n\\nnum_train_faces = len(train_faces_img)\\nnum_train_non_faces = len(train_non_faces_img)\\nnum_train_img = num_train_faces + num_train_non_faces\\n\\nlabels_train = np.zeros(num_train_img)\\nintegral_images_train = []\\n\\npos_examples = 0\\nfor f in train_faces_img:\\n    img = cv.imread(train_faces_img_path+f,0)\\n    img = cv.resize(img,(img_size,img_size))\\n    integral_images_train.append(integral_image(img))  \\n    labels_train[pos_examples] = 1\\n    pos_examples  = pos_examples  + 1\\n\\nneg_examples = 0\\nfor f in train_non_faces_img:\\n    img = cv.imread(train_non_faces_img_path+f,0)\\n    img = cv.resize(img,(img_size,img_size))\\n    integral_images_train.append(integral_image(img))\\n    labels_train[pos_examples+neg_examples] = 0\\n    neg_examples = neg_examples + 1\\n\\ntraining_data = list(zip(integral_images_train,labels_train)) \\nrandom.shuffle(training_data)\\nfor i in range(len(training_data)):\\n    integral_images_train[i] = training_data[i][0]\\n    labels_train[i] = training_data[i][1]\\n    \\nweights, X = train(integral_images_train, labels_train, pos_examples, neg_examples)'"
      ]
     },
     "execution_count": 9,
     "metadata": {},
     "output_type": "execute_result"
    }
   ],
   "source": [
    "'''img_size = 18\n",
    "\n",
    "train_faces_img_path = \"../dataset/train/face/\"\n",
    "train_non_faces_img_path = \"../dataset/train/non-face/\"\n",
    "\n",
    "train_faces_img = [f for f in listdir(train_faces_img_path) if isfile(join(train_faces_img_path, f))][:1000]\n",
    "train_non_faces_img = [f for f in listdir(train_non_faces_img_path) if isfile(join(train_non_faces_img_path, f))][:1000]\n",
    "\n",
    "num_train_faces = len(train_faces_img)\n",
    "num_train_non_faces = len(train_non_faces_img)\n",
    "num_train_img = num_train_faces + num_train_non_faces\n",
    "\n",
    "labels_train = np.zeros(num_train_img)\n",
    "integral_images_train = []\n",
    "\n",
    "pos_examples = 0\n",
    "for f in train_faces_img:\n",
    "    img = cv.imread(train_faces_img_path+f,0)\n",
    "    img = cv.resize(img,(img_size,img_size))\n",
    "    integral_images_train.append(integral_image(img))  \n",
    "    labels_train[pos_examples] = 1\n",
    "    pos_examples  = pos_examples  + 1\n",
    "\n",
    "neg_examples = 0\n",
    "for f in train_non_faces_img:\n",
    "    img = cv.imread(train_non_faces_img_path+f,0)\n",
    "    img = cv.resize(img,(img_size,img_size))\n",
    "    integral_images_train.append(integral_image(img))\n",
    "    labels_train[pos_examples+neg_examples] = 0\n",
    "    neg_examples = neg_examples + 1\n",
    "\n",
    "training_data = list(zip(integral_images_train,labels_train)) \n",
    "random.shuffle(training_data)\n",
    "for i in range(len(training_data)):\n",
    "    integral_images_train[i] = training_data[i][0]\n",
    "    labels_train[i] = training_data[i][1]\n",
    "    \n",
    "weights, X = train(integral_images_train, labels_train, pos_examples, neg_examples)'''"
   ]
  },
  {
   "cell_type": "code",
   "execution_count": 10,
   "metadata": {},
   "outputs": [
    {
     "data": {
      "text/plain": [
       "'indices = SelectPercentile(f_classif, percentile=10).fit(X.T,labels_train).get_support(indices=True)\\nX_indices = X[indices]\\nbeta = []\\nthreshold = []\\npolarity = [] \\nbest_classifier = []\\n\\nT = 10\\nfor i in range(T):\\n    weights = weights/sum(weights)\\n    final_feature_error, final_feature, final_polarity, final_threshold, final_error_arr = select_best_classifier(weights,X,labels_train)\\n    best_classifier.append(final_feature)\\n    polarity.append(final_polarity)\\n    threshold.append(final_threshold)\\n    beta_val = final_feature_error/(1-final_feature_error)\\n    beta.append(beta_val)\\n    for j in range(len(weights)):\\n        weights[j] = weights[j]*(beta_val**(1-(final_error_arr[j])))'"
      ]
     },
     "execution_count": 10,
     "metadata": {},
     "output_type": "execute_result"
    }
   ],
   "source": [
    "\"\"\"indices = SelectPercentile(f_classif, percentile=10).fit(X.T,labels_train).get_support(indices=True)\n",
    "X_indices = X[indices]\n",
    "beta = []\n",
    "threshold = []\n",
    "polarity = [] \n",
    "best_classifier = []\n",
    "\n",
    "T = 10\n",
    "for i in range(T):\n",
    "    weights = weights/sum(weights)\n",
    "    final_feature_error, final_feature, final_polarity, final_threshold, final_error_arr = select_best_classifier(weights,X,labels_train)\n",
    "    best_classifier.append(final_feature)\n",
    "    polarity.append(final_polarity)\n",
    "    threshold.append(final_threshold)\n",
    "    beta_val = final_feature_error/(1-final_feature_error)\n",
    "    beta.append(beta_val)\n",
    "    for j in range(len(weights)):\n",
    "        weights[j] = weights[j]*(beta_val**(1-(final_error_arr[j])))\"\"\""
   ]
  },
  {
   "cell_type": "code",
   "execution_count": 11,
   "metadata": {},
   "outputs": [
    {
     "data": {
      "text/plain": [
       "'np.save( \"./beta.npy\",beta)\\nnp.save( \"./threshold.npy\",threshold)\\nnp.save( \"./polarity.npy\",polarity)\\nnp.save(\"./best_classifier.npy\",best_classifier)'"
      ]
     },
     "execution_count": 11,
     "metadata": {},
     "output_type": "execute_result"
    }
   ],
   "source": [
    "\"\"\"np.save( \"./beta.npy\",beta)\n",
    "np.save( \"./threshold.npy\",threshold)\n",
    "np.save( \"./polarity.npy\",polarity)\n",
    "np.save(\"./best_classifier.npy\",best_classifier)\"\"\""
   ]
  },
  {
   "cell_type": "code",
   "execution_count": 12,
   "metadata": {},
   "outputs": [],
   "source": [
    "beta = np.load( \"./beta.npy\")\n",
    "threshold = np.load( \"./threshold.npy\")\n",
    "polarity = np.load( \"./polarity.npy\")\n",
    "best_classifier = np.load(\"./best_classifier.npy\")"
   ]
  },
  {
   "cell_type": "markdown",
   "metadata": {},
   "source": [
    "## Running the Viola Jones on Train Data"
   ]
  },
  {
   "cell_type": "code",
   "execution_count": 13,
   "metadata": {},
   "outputs": [],
   "source": [
    "img_size = 18\n",
    "\n",
    "train_faces_img_path = \"../dataset/train/face/\"\n",
    "train_non_faces_img_path = \"../dataset/train/non-face/\"\n",
    "\n",
    "train_faces_img = [f for f in listdir(train_faces_img_path) if isfile(join(train_faces_img_path, f))][:1000]\n",
    "train_non_faces_img = [f for f in listdir(train_non_faces_img_path) if isfile(join(train_non_faces_img_path, f))][:1000]\n",
    "\n",
    "num_train_faces = len(train_faces_img)\n",
    "num_train_non_faces = len(train_non_faces_img)\n",
    "num_train_img = num_train_faces + num_train_non_faces\n",
    "\n",
    "labels_train = np.zeros(num_train_img)\n",
    "integral_images_train = []\n",
    "\n",
    "pos_examples = 0\n",
    "for f in train_faces_img:\n",
    "    img = cv.imread(train_faces_img_path+f,0)\n",
    "    img = cv.resize(img,(img_size,img_size))\n",
    "    integral_images_train.append(integral_image(img))  \n",
    "    labels_train[pos_examples] = 1\n",
    "    pos_examples  = pos_examples  + 1\n",
    "\n",
    "neg_examples = 0\n",
    "for f in train_non_faces_img:\n",
    "    img = cv.imread(train_non_faces_img_path+f,0)\n",
    "    img = cv.resize(img,(img_size,img_size))\n",
    "    integral_images_train.append(integral_image(img))\n",
    "    labels_train[pos_examples+neg_examples] = 0\n",
    "    neg_examples = neg_examples + 1\n",
    "\n",
    "training_data = list(zip(integral_images_train,labels_train)) \n",
    "random.shuffle(training_data)\n",
    "for i in range(len(training_data)):\n",
    "    integral_images_train[i] = training_data[i][0]\n",
    "    labels_train[i] = training_data[i][1]"
   ]
  },
  {
   "cell_type": "code",
   "execution_count": 14,
   "metadata": {},
   "outputs": [
    {
     "name": "stdout",
     "output_type": "stream",
     "text": [
      "Testing the algo on Training Data ...\n",
      "True positive/Actual Positive =  973 / 1000\n",
      "True Negative/Actual Negative =  961 / 1000\n",
      "False positive =  39\n",
      "False Negative =  27\n",
      "Accuracy in training =  96.7 %\n",
      "Precision in training =  96.14624505928853 %\n",
      "Recall in training =  97.3 %\n"
     ]
    }
   ],
   "source": [
    "tp, tn, fp, fn = test(beta, threshold, polarity, best_classifier, integral_images_train, labels_train)\n",
    "print(\"Testing the algo on Training Data ...\")\n",
    "print(\"True positive/Actual Positive = \",tp,\"/\",num_train_faces)\n",
    "print(\"True Negative/Actual Negative = \",tn,\"/\",num_train_non_faces)\n",
    "print(\"False positive = \",fp)\n",
    "print(\"False Negative = \",fn)\n",
    "print(\"Accuracy in training = \",100*(tp+tn)/num_train_img,\"%\")\n",
    "print(\"Precision in training = \",100*tp/(tp+fp),\"%\")\n",
    "print(\"Recall in training = \",100*tp/(tp+fn),\"%\")"
   ]
  },
  {
   "cell_type": "markdown",
   "metadata": {},
   "source": [
    "## Running Viola Jones on Validation data"
   ]
  },
  {
   "cell_type": "code",
   "execution_count": 15,
   "metadata": {},
   "outputs": [],
   "source": [
    "img_size = 18\n",
    "\n",
    "validate_faces_img_path = \"../dataset/train/face/\"\n",
    "validate_non_faces_img_path = \"../dataset/train/non-face/\"\n",
    "\n",
    "validate_faces_img = [f for f in listdir(train_faces_img_path) if isfile(join(train_faces_img_path, f))][1000:2000]\n",
    "validate_non_faces_img = [f for f in listdir(train_non_faces_img_path) if isfile(join(train_non_faces_img_path, f))][1001:2001]\n",
    "\n",
    "num_validate_faces = len(validate_faces_img)\n",
    "num_validate_non_faces = len(validate_non_faces_img)\n",
    "num_validate_img = num_validate_faces + num_validate_non_faces\n",
    "\n",
    "labels_validate = np.zeros(num_validate_img)\n",
    "integral_images_validate = []\n",
    "\n",
    "pos_examples = 0\n",
    "for f in validate_faces_img:\n",
    "    img = cv.imread(validate_faces_img_path+f,0)\n",
    "    img = cv.resize(img,(img_size,img_size))\n",
    "    integral_images_validate.append(integral_image(img))  \n",
    "    labels_validate[pos_examples] = 1\n",
    "    pos_examples  = pos_examples  + 1\n",
    "\n",
    "neg_examples = 0\n",
    "for f in validate_non_faces_img:\n",
    "    img = cv.imread(validate_non_faces_img_path+f,0)\n",
    "    img = cv.resize(img,(img_size,img_size))\n",
    "    integral_images_validate.append(integral_image(img))\n",
    "    labels_validate[pos_examples+neg_examples] = 0\n",
    "    neg_examples = neg_examples + 1\n",
    "\n",
    "validation_data = list(zip(integral_images_validate,labels_validate)) \n",
    "random.shuffle(validation_data)\n",
    "for i in range(len(validation_data)):\n",
    "    integral_images_validate[i] = validation_data[i][0]\n",
    "    labels_validate[i] = validation_data[i][1]"
   ]
  },
  {
   "cell_type": "code",
   "execution_count": 16,
   "metadata": {},
   "outputs": [
    {
     "name": "stdout",
     "output_type": "stream",
     "text": [
      "Testing the algo on Validation Data ...\n",
      "True positive/Actual Positive =  958 / 1000\n",
      "True Negative/Actual Negative =  933 / 1000\n",
      "False positive =  67\n",
      "False Negative =  42\n",
      "Accuracy in validation =  94.55 %\n",
      "Precision in validation =  93.46341463414635 %\n",
      "Recall in validation =  95.8 %\n"
     ]
    }
   ],
   "source": [
    "tp, tn, fp, fn = test(beta, threshold, polarity, best_classifier, integral_images_validate, labels_validate)\n",
    "print(\"Testing the algo on Validation Data ...\")\n",
    "print(\"True positive/Actual Positive = \",tp,\"/\",num_validate_faces)\n",
    "print(\"True Negative/Actual Negative = \",tn,\"/\",num_validate_non_faces)\n",
    "print(\"False positive = \",fp)\n",
    "print(\"False Negative = \",fn)\n",
    "print(\"Accuracy in validation = \",100*(tp+tn)/num_train_img,\"%\")\n",
    "print(\"Precision in validation = \",100*tp/(tp+fp),\"%\")\n",
    "print(\"Recall in validation = \",100*tp/(tp+fn),\"%\")"
   ]
  },
  {
   "cell_type": "markdown",
   "metadata": {},
   "source": [
    "## Running the Viola Jones on Test Data"
   ]
  },
  {
   "cell_type": "code",
   "execution_count": 17,
   "metadata": {},
   "outputs": [],
   "source": [
    "img_size = 18\n",
    "\n",
    "test_faces_img_path = \"../dataset/test/face/\"\n",
    "test_non_faces_img_path = \"../dataset/test/non-face/\"\n",
    "test_faces_img = [f for f in listdir(test_faces_img_path) if isfile(join(test_faces_img_path, f))]\n",
    "test_non_faces_img = [f for f in listdir(test_non_faces_img_path) if isfile(join(test_non_faces_img_path, f))][:1500]\n",
    "num_test_faces = len(test_faces_img)\n",
    "num_test_non_faces = len(test_non_faces_img)\n",
    "num_test_img = num_test_faces + num_test_non_faces\n",
    "\n",
    "labels_test = np.zeros(num_test_img)\n",
    "integral_images_test = []\n",
    "\n",
    "pos_examples = 0\n",
    "for f in test_faces_img:\n",
    "    img = cv.imread(test_faces_img_path+f,0)\n",
    "    img = cv.resize(img,(img_size,img_size))\n",
    "    integral_images_test.append(integral_image(img))  \n",
    "    labels_test[pos_examples] = 1\n",
    "    pos_examples  = pos_examples  + 1\n",
    "\n",
    "neg_examples = 0\n",
    "for f in test_non_faces_img:\n",
    "    img = cv.imread(test_non_faces_img_path+f,0)\n",
    "    img = cv.resize(img,(img_size,img_size))\n",
    "    integral_images_test.append(integral_image(img))\n",
    "    labels_test[pos_examples+neg_examples] = 0\n",
    "    neg_examples = neg_examples + 1\n",
    "\n",
    "test_data = list(zip(integral_images_test,labels_test)) \n",
    "random.shuffle(test_data)\n",
    "for i in range(len(test_data)):\n",
    "    integral_images_test[i] = test_data[i][0]\n",
    "    labels_test[i] = test_data[i][1]"
   ]
  },
  {
   "cell_type": "code",
   "execution_count": 18,
   "metadata": {},
   "outputs": [
    {
     "name": "stdout",
     "output_type": "stream",
     "text": [
      "Testing the algo on Test Data ...\n",
      "True positive/Actual Positive =  141 / 472\n",
      "True Negative/Actual Negative =  1421 / 1500\n",
      "False positive =  79\n",
      "False Negative =  331\n",
      "Accuracy in testing =  79.20892494929006 %\n",
      "Precision in testing =  64.0909090909091 %\n",
      "Recall in testing =  29.872881355932204 %\n"
     ]
    }
   ],
   "source": [
    "tp,tn,fp,fn = test(beta, threshold, polarity, best_classifier, integral_images_test, labels_test)\n",
    "print(\"Testing the algo on Test Data ...\")\n",
    "print(\"True positive/Actual Positive = \",tp,\"/\",num_test_faces)\n",
    "print(\"True Negative/Actual Negative = \",tn,\"/\",num_test_non_faces)\n",
    "print(\"False positive = \",fp)\n",
    "print(\"False Negative = \",fn)\n",
    "print(\"Accuracy in testing = \",100*(tp+tn)/num_test_img,\"%\")\n",
    "print(\"Precision in testing = \",100*tp/(tp+fp),\"%\")\n",
    "print(\"Recall in testing = \",100*tp/(tp+fn),\"%\")"
   ]
  },
  {
   "cell_type": "markdown",
   "metadata": {},
   "source": [
    "## Images and their classification using Viola Jones"
   ]
  },
  {
   "cell_type": "code",
   "execution_count": 19,
   "metadata": {
    "scrolled": false
   },
   "outputs": [
    {
     "data": {
      "image/png": "[encoded data removed]",
      "text/plain": [
       "<Figure size 432x288 with 1 Axes>"
      ]
     },
     "metadata": {
      "needs_background": "light"
     },
     "output_type": "display_data"
    },
    {
     "name": "stdout",
     "output_type": "stream",
     "text": [
      "TRUE Face detected\n"
     ]
    },
    {
     "data": {
      "image/png": "[encoded data removed]",
      "text/plain": [
       "<Figure size 432x288 with 1 Axes>"
      ]
     },
     "metadata": {
      "needs_background": "light"
     },
     "output_type": "display_data"
    },
    {
     "name": "stdout",
     "output_type": "stream",
     "text": [
      "TRUE Face detected\n"
     ]
    },
    {
     "data": {
      "image/png": "[encoded data removed]",
      "text/plain": [
       "<Figure size 432x288 with 1 Axes>"
      ]
     },
     "metadata": {
      "needs_background": "light"
     },
     "output_type": "display_data"
    },
    {
     "name": "stdout",
     "output_type": "stream",
     "text": [
      "TRUE Face detected\n"
     ]
    },
    {
     "data": {
      "image/png": "[encoded data removed]",
      "text/plain": [
       "<Figure size 432x288 with 1 Axes>"
      ]
     },
     "metadata": {
      "needs_background": "light"
     },
     "output_type": "display_data"
    },
    {
     "name": "stdout",
     "output_type": "stream",
     "text": [
      "TRUE Face detected\n"
     ]
    },
    {
     "data": {
      "image/png": "[encoded data removed]",
      "text/plain": [
       "<Figure size 432x288 with 1 Axes>"
      ]
     },
     "metadata": {
      "needs_background": "light"
     },
     "output_type": "display_data"
    },
    {
     "name": "stdout",
     "output_type": "stream",
     "text": [
      "TRUE Face detected\n"
     ]
    },
    {
     "data": {
      "image/png": "[encoded data removed]",
      "text/plain": [
       "<Figure size 432x288 with 1 Axes>"
      ]
     },
     "metadata": {
      "needs_background": "light"
     },
     "output_type": "display_data"
    },
    {
     "name": "stdout",
     "output_type": "stream",
     "text": [
      "TRUE Face detected\n"
     ]
    },
    {
     "data": {
      "image/png": "[encoded data removed]",
      "text/plain": [
       "<Figure size 432x288 with 1 Axes>"
      ]
     },
     "metadata": {
      "needs_background": "light"
     },
     "output_type": "display_data"
    },
    {
     "name": "stdout",
     "output_type": "stream",
     "text": [
      "FALSE Face not detected\n"
     ]
    },
    {
     "data": {
      "image/png": "[encoded data removed]",
      "text/plain": [
       "<Figure size 432x288 with 1 Axes>"
      ]
     },
     "metadata": {
      "needs_background": "light"
     },
     "output_type": "display_data"
    },
    {
     "name": "stdout",
     "output_type": "stream",
     "text": [
      "TRUE Face detected\n"
     ]
    },
    {
     "data": {
      "image/png": "[encoded data removed]",
      "text/plain": [
       "<Figure size 432x288 with 1 Axes>"
      ]
     },
     "metadata": {
      "needs_background": "light"
     },
     "output_type": "display_data"
    },
    {
     "name": "stdout",
     "output_type": "stream",
     "text": [
      "TRUE Face detected\n"
     ]
    },
    {
     "data": {
      "image/png": "[encoded data removed]",
      "text/plain": [
       "<Figure size 432x288 with 1 Axes>"
      ]
     },
     "metadata": {
      "needs_background": "light"
     },
     "output_type": "display_data"
    },
    {
     "name": "stdout",
     "output_type": "stream",
     "text": [
      "TRUE Face detected\n"
     ]
    }
   ],
   "source": [
    "for n_i in range(10):\n",
    "    train_faces_img_path = \"../dataset/train/face/\"\n",
    "    train_faces_img = [f for f in listdir(train_faces_img_path) if isfile(join(train_faces_img_path, f))][n_i]\n",
    "    img = cv.imread(train_faces_img_path+train_faces_img,0)\n",
    "    img = cv.resize(img,(img_size,img_size))\n",
    "    plt.imshow(img,cmap='gray')\n",
    "    plt.show()\n",
    "    tp,tn,fp,fn = test_single_image(beta, threshold, polarity, best_classifier, integral_image(img), 1)\n",
    "    if tp == 1 :\n",
    "        print(\"TRUE Face detected\")\n",
    "    elif fn == 1 :\n",
    "        print(\"FALSE Face not detected\")"
   ]
  },
  {
   "cell_type": "code",
   "execution_count": 20,
   "metadata": {
    "scrolled": false
   },
   "outputs": [
    {
     "data": {
      "image/png": "[encoded data removed]",
      "text/plain": [
       "<Figure size 432x288 with 1 Axes>"
      ]
     },
     "metadata": {
      "needs_background": "light"
     },
     "output_type": "display_data"
    },
    {
     "name": "stdout",
     "output_type": "stream",
     "text": [
      "TRUE Face NOT detected\n"
     ]
    },
    {
     "data": {
      "image/png": "[encoded data removed]",
      "text/plain": [
       "<Figure size 432x288 with 1 Axes>"
      ]
     },
     "metadata": {
      "needs_background": "light"
     },
     "output_type": "display_data"
    },
    {
     "name": "stdout",
     "output_type": "stream",
     "text": [
      "TRUE Face NOT detected\n"
     ]
    },
    {
     "data": {
      "image/png": "[encoded data removed]",
      "text/plain": [
       "<Figure size 432x288 with 1 Axes>"
      ]
     },
     "metadata": {
      "needs_background": "light"
     },
     "output_type": "display_data"
    },
    {
     "name": "stdout",
     "output_type": "stream",
     "text": [
      "TRUE Face NOT detected\n"
     ]
    },
    {
     "data": {
      "image/png": "[encoded data removed]",
      "text/plain": [
       "<Figure size 432x288 with 1 Axes>"
      ]
     },
     "metadata": {
      "needs_background": "light"
     },
     "output_type": "display_data"
    },
    {
     "name": "stdout",
     "output_type": "stream",
     "text": [
      "TRUE Face NOT detected\n"
     ]
    },
    {
     "data": {
      "image/png": "[encoded data removed]",
      "text/plain": [
       "<Figure size 432x288 with 1 Axes>"
      ]
     },
     "metadata": {
      "needs_background": "light"
     },
     "output_type": "display_data"
    },
    {
     "name": "stdout",
     "output_type": "stream",
     "text": [
      "TRUE Face NOT detected\n"
     ]
    },
    {
     "data": {
      "image/png": "[encoded data removed]",
      "text/plain": [
       "<Figure size 432x288 with 1 Axes>"
      ]
     },
     "metadata": {
      "needs_background": "light"
     },
     "output_type": "display_data"
    },
    {
     "name": "stdout",
     "output_type": "stream",
     "text": [
      "TRUE Face NOT detected\n"
     ]
    },
    {
     "data": {
      "image/png": "[encoded data removed]",
      "text/plain": [
       "<Figure size 432x288 with 1 Axes>"
      ]
     },
     "metadata": {
      "needs_background": "light"
     },
     "output_type": "display_data"
    },
    {
     "name": "stdout",
     "output_type": "stream",
     "text": [
      "TRUE Face NOT detected\n"
     ]
    },
    {
     "data": {
      "image/png": "[encoded data removed]",
      "text/plain": [
       "<Figure size 432x288 with 1 Axes>"
      ]
     },
     "metadata": {
      "needs_background": "light"
     },
     "output_type": "display_data"
    },
    {
     "name": "stdout",
     "output_type": "stream",
     "text": [
      "TRUE Face NOT detected\n"
     ]
    },
    {
     "data": {
      "image/png": "[encoded data removed]",
      "text/plain": [
       "<Figure size 432x288 with 1 Axes>"
      ]
     },
     "metadata": {
      "needs_background": "light"
     },
     "output_type": "display_data"
    },
    {
     "name": "stdout",
     "output_type": "stream",
     "text": [
      "TRUE Face NOT detected\n"
     ]
    },
    {
     "data": {
      "image/png": "[encoded data removed]",
      "text/plain": [
       "<Figure size 432x288 with 1 Axes>"
      ]
     },
     "metadata": {
      "needs_background": "light"
     },
     "output_type": "display_data"
    },
    {
     "name": "stdout",
     "output_type": "stream",
     "text": [
      "TRUE Face NOT detected\n"
     ]
    }
   ],
   "source": [
    "for n_i in range(10):\n",
    "    train_non_faces_img_path = \"../dataset/train/non-face/\"\n",
    "    train_non_faces_img = [f for f in listdir(train_non_faces_img_path) if isfile(join(train_non_faces_img_path, f))][n_i]\n",
    "    img = cv.imread(train_non_faces_img_path+train_non_faces_img,0)\n",
    "    img = cv.resize(img,(img_size,img_size))\n",
    "    plt.imshow(img,cmap='gray')\n",
    "    plt.show()\n",
    "    tp,tn,fp,fn = test_single_image(beta, threshold, polarity, best_classifier, integral_image(img), 0)\n",
    "    if tn == 1 :\n",
    "        print(\"TRUE Face NOT detected\")\n",
    "    elif fn == 1 :\n",
    "        print(\"FALSE Face not detected falsely\")"
   ]
  },
  {
   "cell_type": "markdown",
   "metadata": {},
   "source": [
    "## Viola Jones Face detection on my selfie "
   ]
  },
  {
   "cell_type": "code",
   "execution_count": 21,
   "metadata": {},
   "outputs": [
    {
     "data": {
      "image/png": "[encoded data removed]",
      "text/plain": [
       "<Figure size 432x288 with 1 Axes>"
      ]
     },
     "metadata": {
      "needs_background": "light"
     },
     "output_type": "display_data"
    },
    {
     "name": "stdout",
     "output_type": "stream",
     "text": [
      "TRUE Face detected\n"
     ]
    }
   ],
   "source": [
    "selfie_face_img_path = \"../karan.jpeg\"\n",
    "img = cv.imread(selfie_face_img_path,0)\n",
    "img = cv.resize(img,(img_size,img_size))\n",
    "plt.imshow(img,cmap='gray')\n",
    "plt.show()\n",
    "tp,tn,fp,fn = test_single_image(beta, threshold, polarity, best_classifier, integral_image(img), 1)\n",
    "if tp == 1 :\n",
    "    print(\"TRUE Face detected\")\n",
    "elif fn == 1 :\n",
    "    print(\"FALSE Face not detected\")"
   ]
  }
 ],
 "metadata": {
  "kernelspec": {
   "display_name": "Python 3",
   "language": "python",
   "name": "python3"
  },
  "language_info": {
   "codemirror_mode": {
    "name": "ipython",
    "version": 3
   },
   "file_extension": ".py",
   "mimetype": "text/x-python",
   "name": "python",
   "nbconvert_exporter": "python",
   "pygments_lexer": "ipython3",
   "version": "3.7.9"
  }
 },
 "nbformat": 4,
 "nbformat_minor": 4
}
